{
 "cells": [
  {
   "cell_type": "code",
   "execution_count": 1,
   "metadata": {},
   "outputs": [],
   "source": [
    "# pakages would be used\n",
    "import urllib, json\n",
    "from urllib.request import urlopen\n",
    "import pandas as pd\n",
    "import numpy as np\n",
    "import sqlite3"
   ]
  },
  {
   "cell_type": "code",
   "execution_count": 4,
   "metadata": {},
   "outputs": [],
   "source": [
    "# 1. overview\n",
    "surl01 = \"http://www.europarl.europa.eu/website/election-results/data/turnout/year/2014.json\"\n",
    "data01 = urllib.request.urlopen(surl01).read()\n",
    "output01 = json.loads(data01)\n"
   ]
  },
  {
   "cell_type": "code",
   "execution_count": 11,
   "metadata": {},
   "outputs": [],
   "source": [
    "# after checked the dataset we only keep 'results' for analysis\n",
    "turnout = pd.DataFrame(output01[\"results\"])\n"
   ]
  },
  {
   "cell_type": "code",
   "execution_count": null,
   "metadata": {},
   "outputs": [],
   "source": [
    "#don't know why the code below doesn't work"
   ]
  },
  {
   "cell_type": "code",
   "execution_count": 13,
   "metadata": {},
   "outputs": [
    {
     "ename": "SyntaxError",
     "evalue": "unexpected EOF while parsing (<ipython-input-13-ac678e82df6a>, line 1)",
     "output_type": "error",
     "traceback": [
      "\u001b[1;36m  File \u001b[1;32m\"<ipython-input-13-ac678e82df6a>\"\u001b[1;36m, line \u001b[1;32m1\u001b[0m\n\u001b[1;33m    top = turnout.sort_values(by=['percent'], ascending=False #check the turnout of each country from high to low\u001b[0m\n\u001b[1;37m                                                                                                                 ^\u001b[0m\n\u001b[1;31mSyntaxError\u001b[0m\u001b[1;31m:\u001b[0m unexpected EOF while parsing\n"
     ]
    }
   ],
   "source": [
    "top = (turnout.sort_values(by=['percent'], ascending=False) #check the turnout of each country from high to low"
   ]
  },
  {
   "cell_type": "code",
   "execution_count": 6,
   "metadata": {},
   "outputs": [],
   "source": [
    " # 2. by municipality\n",
    "# dataset could be found in https://www.data.gouv.fr/en/datasets/elections-europeennes-2014-resultats-par-communes/\n",
    "surl02 = \"https://www.data.gouv.fr/en/datasets/r/d6817473-7c6b-4a41-955c-b620c86e7fd7\"\n",
    "data02 = urllib.request.urlopen(surl02)\n",
    "output = pd.ExcelFile(data02)\n",
    "output02 = output.parse(output.sheet_names[0], header=0) #use the 1st sheet\n"
   ]
  },
  {
   "cell_type": "code",
   "execution_count": 7,
   "metadata": {},
   "outputs": [],
   "source": [
    "# turn nan to 0, because it means no one vote for this party\n",
    "output02 = output02.fillna(0)"
   ]
  },
  {
   "cell_type": "code",
   "execution_count": 8,
   "metadata": {},
   "outputs": [
    {
     "data": {
      "text/plain": [
       "['Code_du_depar',\n",
       " 'depar',\n",
       " 'Code_de_la_commu',\n",
       " 'commu',\n",
       " 'Exprimés',\n",
       " 'Liste',\n",
       " 'Voix',\n",
       " 'Liste1',\n",
       " 'Voix1',\n",
       " 'Liste2',\n",
       " 'Voix2',\n",
       " 'Liste3',\n",
       " 'Voix3',\n",
       " 'Liste4',\n",
       " 'Voix4',\n",
       " 'Liste5',\n",
       " 'Voix5',\n",
       " 'Liste6',\n",
       " 'Voix6',\n",
       " 'Liste7',\n",
       " 'Voix7',\n",
       " 'Liste8',\n",
       " 'Voix8',\n",
       " 'Liste9',\n",
       " 'Voix9',\n",
       " 'Liste10',\n",
       " 'Voix10',\n",
       " 'Liste11',\n",
       " 'Voix11',\n",
       " 'Liste12',\n",
       " 'Voix12',\n",
       " 'Liste13',\n",
       " 'Voix13',\n",
       " 'Liste14',\n",
       " 'Voix14',\n",
       " 'Liste15',\n",
       " 'Voix15',\n",
       " 'Liste16',\n",
       " 'Voix16',\n",
       " 'Liste17',\n",
       " 'Voix17',\n",
       " 'Liste18',\n",
       " 'Voix18',\n",
       " 'Liste19',\n",
       " 'Voix19',\n",
       " 'Liste20',\n",
       " 'Voix20',\n",
       " 'Liste21',\n",
       " 'Voix21',\n",
       " 'Liste22',\n",
       " 'Voix22',\n",
       " 'Liste23',\n",
       " 'Voix23',\n",
       " 'Liste24',\n",
       " 'Voix24',\n",
       " 'Liste25',\n",
       " 'Voix25',\n",
       " 'Liste26',\n",
       " 'Voix26',\n",
       " 'Liste27',\n",
       " 'Voix27',\n",
       " 'Liste28',\n",
       " 'Voix28',\n",
       " 'Liste29',\n",
       " 'Voix29',\n",
       " 'Liste30',\n",
       " 'Voix30']"
      ]
     },
     "execution_count": 8,
     "metadata": {},
     "output_type": "execute_result"
    }
   ],
   "source": [
    "# only keep cols we need\n",
    "list(output02) #check the colnames\n",
    "output02 = output02[['Code du département','Libellé du département','Code de la commune','Libellé de la commune','Exprimés',\n",
    "                     'Nuance Liste','Voix','Nuance Liste.1','Voix.1','Nuance Liste.2','Voix.2','Nuance Liste.3','Voix.3','Nuance Liste.4','Voix.4',\n",
    "                     'Nuance Liste.5','Voix.5','Nuance Liste.6','Voix.6','Nuance Liste.7','Voix.7','Nuance Liste.8','Voix.8','Nuance Liste.9','Voix.9','Nuance Liste.10','Voix.10',\n",
    "                     'Nuance Liste.11','Voix.11','Nuance Liste.12','Voix.12','Nuance Liste.13','Voix.13','Nuance Liste.14','Voix.14','Nuance Liste.15','Voix.15',\n",
    "                    'Nuance Liste.16','Voix.16','Nuance Liste.17','Voix.17','Nuance Liste.18','Voix.18','Nuance Liste.19','Voix.19','Nuance Liste.20','Voix.20',\n",
    "                    'Nuance Liste.21','Voix.21','Nuance Liste.22','Voix.22','Nuance Liste.23','Voix.23','Nuance Liste.24','Voix.24','Nuance Liste.25','Voix.25',\n",
    "                    'Nuance Liste.26','Voix.26','Nuance Liste.27','Voix.27','Nuance Liste.28','Voix.28','Nuance Liste.29','Voix.29','Nuance Liste.30','Voix.30']]\n",
    "output02.rename(columns={'Code du département': 'Code_du_depar', 'Libellé du département': 'depar',\n",
    "                         'Code de la commune': 'Code_de_la_commu', 'Libellé de la commune': 'commu',\n",
    "                         'Nuance Liste': 'Liste', 'Nuance Liste.1': 'Liste1',\n",
    "                         'Voix.1': 'Voix1','Nuance Liste.2': 'Liste2', 'Voix.3': 'Voix3',\n",
    "                         'Nuance Liste.3': 'Liste3', 'Voix.2': 'Voix2','Nuance Liste.4': 'Liste4', 'Voix.4': 'Voix4',\n",
    "                         'Nuance Liste.5': 'Liste5', 'Voix.5': 'Voix5','Nuance Liste.6': 'Liste6', 'Voix.6': 'Voix6',\n",
    "                         'Nuance Liste.7': 'Liste7', 'Voix.7': 'Voix7','Nuance Liste.8': 'Liste8', 'Voix.8': 'Voix8',\n",
    "                         'Nuance Liste.9': 'Liste9', 'Voix.9': 'Voix9','Nuance Liste.10': 'Liste10', 'Voix.10': 'Voix10',\n",
    "                         'Nuance Liste.11': 'Liste11', 'Voix.11': 'Voix11','Nuance Liste.12': 'Liste12', 'Voix.12': 'Voix12',\n",
    "                         'Nuance Liste.13': 'Liste13', 'Voix.13': 'Voix13','Nuance Liste.14': 'Liste14', 'Voix.14': 'Voix14',\n",
    "                         'Nuance Liste.15': 'Liste15', 'Voix.15': 'Voix15','Nuance Liste.16': 'Liste16', 'Voix.16': 'Voix16',\n",
    "                         'Nuance Liste.17': 'Liste17', 'Voix.17': 'Voix17','Nuance Liste.18': 'Liste18', 'Voix.18': 'Voix18',\n",
    "                         'Nuance Liste.19': 'Liste19', 'Voix.19': 'Voix19','Nuance Liste.20': 'Liste20', 'Voix.20': 'Voix20',\n",
    "                         'Nuance Liste.21': 'Liste21', 'Voix.21': 'Voix21','Nuance Liste.22': 'Liste22', 'Voix.22': 'Voix22',\n",
    "                         'Nuance Liste.23': 'Liste23', 'Voix.23': 'Voix23','Nuance Liste.24': 'Liste24', 'Voix.24': 'Voix24',\n",
    "                         'Nuance Liste.25': 'Liste25', 'Voix.25': 'Voix25','Nuance Liste.26': 'Liste26', 'Voix.26': 'Voix26',\n",
    "                         'Nuance Liste.27': 'Liste27', 'Voix.27': 'Voix27','Nuance Liste.28': 'Liste28', 'Voix.28': 'Voix28',\n",
    "                         'Nuance Liste.29': 'Liste29', 'Voix.29': 'Voix29','Nuance Liste.30': 'Liste30', 'Voix.30': 'Voix30',\n",
    "                         'Nuance Liste.31': 'Liste31', 'Voix.31': 'Voix31'}, inplace=True)\n",
    "list(output02) #check the cols\n",
    " "
   ]
  },
  {
   "cell_type": "code",
   "execution_count": 9,
   "metadata": {},
   "outputs": [],
   "source": [
    "output02.to_csv('output02.csv') #save the file"
   ]
  },
  {
   "cell_type": "code",
   "execution_count": 10,
   "metadata": {},
   "outputs": [
    {
     "data": {
      "text/html": [
       "<div>\n",
       "<style scoped>\n",
       "    .dataframe tbody tr th:only-of-type {\n",
       "        vertical-align: middle;\n",
       "    }\n",
       "\n",
       "    .dataframe tbody tr th {\n",
       "        vertical-align: top;\n",
       "    }\n",
       "\n",
       "    .dataframe thead th {\n",
       "        text-align: right;\n",
       "    }\n",
       "</style>\n",
       "<table border=\"1\" class=\"dataframe\">\n",
       "  <thead>\n",
       "    <tr style=\"text-align: right;\">\n",
       "      <th></th>\n",
       "      <th>Code_de_la_commu</th>\n",
       "    </tr>\n",
       "  </thead>\n",
       "  <tbody>\n",
       "    <tr>\n",
       "      <th>0</th>\n",
       "      <td>1</td>\n",
       "    </tr>\n",
       "    <tr>\n",
       "      <th>1</th>\n",
       "      <td>2</td>\n",
       "    </tr>\n",
       "    <tr>\n",
       "      <th>2</th>\n",
       "      <td>4</td>\n",
       "    </tr>\n",
       "    <tr>\n",
       "      <th>3</th>\n",
       "      <td>5</td>\n",
       "    </tr>\n",
       "    <tr>\n",
       "      <th>4</th>\n",
       "      <td>6</td>\n",
       "    </tr>\n",
       "  </tbody>\n",
       "</table>\n",
       "</div>"
      ],
      "text/plain": [
       "   Code_de_la_commu\n",
       "0                 1\n",
       "1                 2\n",
       "2                 4\n",
       "3                 5\n",
       "4                 6"
      ]
     },
     "execution_count": 10,
     "metadata": {},
     "output_type": "execute_result"
    }
   ],
   "source": [
    "#store dataframe into the database\n",
    "connection = sqlite3.connect(\"output02.db\")#create the database\n",
    "\n",
    "output02.to_sql('output02', connection, if_exists='replace', index=False) #connect the dataframe with the database\n",
    "result_muni = pd.read_sql('select Code_de_la_commu  from output02', connection) #create result_muni as the sql target dataset\n",
    "result_muni.head()"
   ]
  },
  {
   "cell_type": "code",
   "execution_count": null,
   "metadata": {},
   "outputs": [],
   "source": []
  },
  {
   "cell_type": "code",
   "execution_count": null,
   "metadata": {},
   "outputs": [],
   "source": []
  }
 ],
 "metadata": {
  "kernelspec": {
   "display_name": "Python 3",
   "language": "python",
   "name": "python3"
  },
  "language_info": {
   "codemirror_mode": {
    "name": "ipython",
    "version": 3
   },
   "file_extension": ".py",
   "mimetype": "text/x-python",
   "name": "python",
   "nbconvert_exporter": "python",
   "pygments_lexer": "ipython3",
   "version": "3.6.5"
  }
 },
 "nbformat": 4,
 "nbformat_minor": 2
}
